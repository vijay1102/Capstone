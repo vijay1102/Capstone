{
 "cells": [
  {
   "cell_type": "markdown",
   "metadata": {},
   "source": [
    "### Sparkify Project understanding:\n",
    "\n",
    "- This project is part of my Udacity Data Scientist Nanodegree Capstone project.\n",
    "\n",
    "- The aim of this project is to train a classification algorithm to predict users which may get churned in near future based on the information and variables available in user log data. More specifically, this data relates to a fictitious music streaming service called Sparkify which contains several informative variables such as:\n",
    "\n",
    " |-- artist\n",
    " |-- auth\n",
    " |-- firstName\n",
    " |-- gender\n",
    " |-- itemInSession\n",
    " |-- lastName\n",
    " |-- length\n",
    " |-- level\n",
    " |-- location\n",
    " |-- method \n",
    " |-- page\n",
    " |-- registration\n",
    " |-- sessionId\n",
    " |-- song\n",
    " |-- status\n",
    " |-- ts\n",
    " |-- userAgent\n",
    " |-- userId\n",
    "\n",
    "### Process Overview:\n",
    "\n",
    "- To run the analysis locally on my machine, I've based my analysis & modeling exercise on a smaller subset (128 MB) of the full dataset(12 GB). I chose not to change this part for the AWS EMR version of this notebook.\n",
    "\n",
    "- Reason behind taking Smaller version of dataset is due to the fact that it is small enough to fit into the memory of a local machine in comparison to the full dataset which will likely to cause issues due to its large size. To deal with this size of data, it is necessary to make use of distributed computing. \n",
    "\n",
    "- As the name of the fictitious streaming service \"Sparkify\" already implies, this project uses Spark, more specifically **The Python API PySpark** to deal with the large dataset. **PySpark** as a high-level API allows us to focus on working with the data without having to dive too deep into the principles of distributed computing.\n",
    "\n",
    "### Analysis Structure:\n",
    "\n",
    "- The project starts off with loading the data, dropping cases where there were no user IDs and initial investigation of the data.\n",
    "\n",
    "- Following this, the target variable (whether a user has churned or not) is defined and several features at user level are created. This is an important point because while the original log data contains many rows for each individual user, in order to perform binary classification we will need to have only one row for each user.\n",
    "\n",
    "- These features are then compared across the two user groups, i.e. those who have churned and those who have not, to identify features which may help in predicting users' behaviour.\n",
    "\n",
    "- A new dataframe containing only the relevant features and the labels (using the tiny dataset or the full one depending upon the notebook chosen) is then created. Before the data is split into a train and a test set, outliers of numerical features are removed, numerical features are scaled using min-max scaling and categorical features are encoded using one-hot encoding.\n",
    "\n",
    "- The training and test datasets are then used to compare a logistic regression, random forest classifier and gradient-boosted tree classifier. The models are evaluated using the F1 score to account for the imbalanced nature of the dataset (i.e. there are only few users who have actually churned) and accuracy rate.\n",
    "\n",
    "- The best model is then chosen and optimised by using hyperparameter tuning. Finally, the results of the optimised model are briefly discussed.\n",
    "\n",
    "- Below I'll walk through the entire process which I've taken to complete this project. "
   ]
  },
  {
   "cell_type": "markdown",
   "metadata": {},
   "source": [
    "#### Step:1- Calling necessary libraries which will be used in this project\n",
    "\n",
    "In this step, I'll call all the required libraries which I'll use in this project for data reading, cleaing,exploring, modeling & testing."
   ]
  },
  {
   "cell_type": "code",
   "execution_count": 1,
   "metadata": {},
   "outputs": [],
   "source": [
    "import pandas as pd\n",
    "import numpy as np\n",
    "from matplotlib import pyplot as plt\n",
    "import seaborn as sns\n",
    "import datetime\n",
    "from pyspark.sql import SparkSession\n",
    "from pyspark.sql.functions import avg, col, concat, desc, explode, lit, min, max, split, udf, isnull\n",
    "from pyspark.sql import functions as sF\n",
    "from pyspark.sql.types import IntegerType\n",
    "from pyspark.ml import Pipeline\n",
    "from pyspark.ml.classification import LogisticRegression, RandomForestClassifier, GBTClassifier, DecisionTreeClassifier, NaiveBayes, LinearSVC\n",
    "from pyspark.ml.evaluation import MulticlassClassificationEvaluator\n",
    "from pyspark.ml.feature import CountVectorizer, IDF, Normalizer, PCA, RegexTokenizer, StandardScaler, StopWordsRemover, StringIndexer, VectorAssembler\n",
    "from pyspark.ml.regression import LinearRegression\n",
    "from pyspark.ml.tuning import CrossValidator, ParamGridBuilder\n",
    "from pyspark.sql import Window\n",
    "\n",
    "from pyspark.sql.functions import lag as Flag\n",
    "from pyspark.sql.functions import sum as Fsum\n",
    "from pyspark.sql.functions import when as Fwhen\n",
    "from pyspark.sql.functions import isnull as Fisnull\n",
    "from pyspark.sql.functions import isnan, when, count, col, isnull, udf, last, first, struct, lit, approx_count_distinct\n",
    "\n",
    "%matplotlib inline"
   ]
  },
  {
   "cell_type": "markdown",
   "metadata": {},
   "source": [
    "#### Step:2 - create a Spark session and load the data\n",
    "\n",
    "As mentioned above, this project uses Spark, more specifically **The Python API PySpark** to deal with the large dataset. **PySpark** as a high-level API allows us to focus on working with the data without having to dive too deep into the principles of distributed computing, I'll create a Spark session to work on the data in this enviournment."
   ]
  },
  {
   "cell_type": "code",
   "execution_count": 2,
   "metadata": {},
   "outputs": [],
   "source": [
    "spark = SparkSession.builder.appName(\"Sparkify\").getOrCreate()"
   ]
  },
  {
   "cell_type": "code",
   "execution_count": 3,
   "metadata": {},
   "outputs": [
    {
     "name": "stdout",
     "output_type": "stream",
     "text": [
      "root\n",
      " |-- artist: string (nullable = true)\n",
      " |-- auth: string (nullable = true)\n",
      " |-- firstName: string (nullable = true)\n",
      " |-- gender: string (nullable = true)\n",
      " |-- itemInSession: long (nullable = true)\n",
      " |-- lastName: string (nullable = true)\n",
      " |-- length: double (nullable = true)\n",
      " |-- level: string (nullable = true)\n",
      " |-- location: string (nullable = true)\n",
      " |-- method: string (nullable = true)\n",
      " |-- page: string (nullable = true)\n",
      " |-- registration: long (nullable = true)\n",
      " |-- sessionId: long (nullable = true)\n",
      " |-- song: string (nullable = true)\n",
      " |-- status: long (nullable = true)\n",
      " |-- ts: long (nullable = true)\n",
      " |-- userAgent: string (nullable = true)\n",
      " |-- userId: string (nullable = true)\n",
      "\n"
     ]
    }
   ],
   "source": [
    "sparkify_data = 'mini_sparkify_event_data.json'\n",
    "df = spark.read.json(sparkify_data)\n",
    "# See the frame schema\n",
    "df.printSchema()"
   ]
  },
  {
   "cell_type": "markdown",
   "metadata": {},
   "source": [
    "\n",
    "- Looking at the schema, we can observe that there is a total of 18 columns of which 12 are strings. Even out of those variables that are not strings only length really seems to be a classical numerical variable. One could perhaps also include the timestamp (\"ts\"), but as a date it should be dealt with differently than a quantitative variable. As for the other variables that are not integers, they really just represent some sort of ID and can therefore not be interpreted as numbers.\n",
    "\n",
    "- So, overall it seems as though we are dealing with mainly categorical variables. This will have certain implications later on once we deal with feature engineering.\n",
    "\n",
    "- Let us also briefly note that there are some columns such as a user's first name where it is almost immediately obvious that they will most likely not help us with predicting user churn rates. We may thus be able to drop some columns later on."
   ]
  },
  {
   "cell_type": "markdown",
   "metadata": {},
   "source": [
    "#### Step:3 - initial Data Cleaning and Analysis\n",
    "\n",
    "Now, In this step I'll take a look about the data such as #of total observations, #of missing IDs, #of duplicates etc. and fix it so that we can get a more structured and refined data for modeling purpose."
   ]
  },
  {
   "cell_type": "code",
   "execution_count": 4,
   "metadata": {},
   "outputs": [
    {
     "data": {
      "text/html": [
       "<div>\n",
       "<style scoped>\n",
       "    .dataframe tbody tr th:only-of-type {\n",
       "        vertical-align: middle;\n",
       "    }\n",
       "\n",
       "    .dataframe tbody tr th {\n",
       "        vertical-align: top;\n",
       "    }\n",
       "\n",
       "    .dataframe thead th {\n",
       "        text-align: right;\n",
       "    }\n",
       "</style>\n",
       "<table border=\"1\" class=\"dataframe\">\n",
       "  <thead>\n",
       "    <tr style=\"text-align: right;\">\n",
       "      <th></th>\n",
       "      <th>artist</th>\n",
       "      <th>auth</th>\n",
       "      <th>firstName</th>\n",
       "      <th>gender</th>\n",
       "      <th>itemInSession</th>\n",
       "      <th>lastName</th>\n",
       "      <th>length</th>\n",
       "      <th>level</th>\n",
       "      <th>location</th>\n",
       "      <th>method</th>\n",
       "      <th>page</th>\n",
       "      <th>registration</th>\n",
       "      <th>sessionId</th>\n",
       "      <th>song</th>\n",
       "      <th>status</th>\n",
       "      <th>ts</th>\n",
       "      <th>userAgent</th>\n",
       "      <th>userId</th>\n",
       "    </tr>\n",
       "  </thead>\n",
       "  <tbody>\n",
       "    <tr>\n",
       "      <th>0</th>\n",
       "      <td>Martha Tilston</td>\n",
       "      <td>Logged In</td>\n",
       "      <td>Colin</td>\n",
       "      <td>M</td>\n",
       "      <td>50</td>\n",
       "      <td>Freeman</td>\n",
       "      <td>277.89016</td>\n",
       "      <td>paid</td>\n",
       "      <td>Bakersfield, CA</td>\n",
       "      <td>PUT</td>\n",
       "      <td>NextSong</td>\n",
       "      <td>1.538173e+12</td>\n",
       "      <td>29</td>\n",
       "      <td>Rockpools</td>\n",
       "      <td>200</td>\n",
       "      <td>1538352117000</td>\n",
       "      <td>Mozilla/5.0 (Windows NT 6.1; WOW64; rv:31.0) G...</td>\n",
       "      <td>30</td>\n",
       "    </tr>\n",
       "    <tr>\n",
       "      <th>1</th>\n",
       "      <td>Five Iron Frenzy</td>\n",
       "      <td>Logged In</td>\n",
       "      <td>Micah</td>\n",
       "      <td>M</td>\n",
       "      <td>79</td>\n",
       "      <td>Long</td>\n",
       "      <td>236.09424</td>\n",
       "      <td>free</td>\n",
       "      <td>Boston-Cambridge-Newton, MA-NH</td>\n",
       "      <td>PUT</td>\n",
       "      <td>NextSong</td>\n",
       "      <td>1.538332e+12</td>\n",
       "      <td>8</td>\n",
       "      <td>Canada</td>\n",
       "      <td>200</td>\n",
       "      <td>1538352180000</td>\n",
       "      <td>\"Mozilla/5.0 (Windows NT 6.1; WOW64) AppleWebK...</td>\n",
       "      <td>9</td>\n",
       "    </tr>\n",
       "    <tr>\n",
       "      <th>2</th>\n",
       "      <td>Adam Lambert</td>\n",
       "      <td>Logged In</td>\n",
       "      <td>Colin</td>\n",
       "      <td>M</td>\n",
       "      <td>51</td>\n",
       "      <td>Freeman</td>\n",
       "      <td>282.82730</td>\n",
       "      <td>paid</td>\n",
       "      <td>Bakersfield, CA</td>\n",
       "      <td>PUT</td>\n",
       "      <td>NextSong</td>\n",
       "      <td>1.538173e+12</td>\n",
       "      <td>29</td>\n",
       "      <td>Time For Miracles</td>\n",
       "      <td>200</td>\n",
       "      <td>1538352394000</td>\n",
       "      <td>Mozilla/5.0 (Windows NT 6.1; WOW64; rv:31.0) G...</td>\n",
       "      <td>30</td>\n",
       "    </tr>\n",
       "    <tr>\n",
       "      <th>3</th>\n",
       "      <td>Enigma</td>\n",
       "      <td>Logged In</td>\n",
       "      <td>Micah</td>\n",
       "      <td>M</td>\n",
       "      <td>80</td>\n",
       "      <td>Long</td>\n",
       "      <td>262.71302</td>\n",
       "      <td>free</td>\n",
       "      <td>Boston-Cambridge-Newton, MA-NH</td>\n",
       "      <td>PUT</td>\n",
       "      <td>NextSong</td>\n",
       "      <td>1.538332e+12</td>\n",
       "      <td>8</td>\n",
       "      <td>Knocking On Forbidden Doors</td>\n",
       "      <td>200</td>\n",
       "      <td>1538352416000</td>\n",
       "      <td>\"Mozilla/5.0 (Windows NT 6.1; WOW64) AppleWebK...</td>\n",
       "      <td>9</td>\n",
       "    </tr>\n",
       "    <tr>\n",
       "      <th>4</th>\n",
       "      <td>Daft Punk</td>\n",
       "      <td>Logged In</td>\n",
       "      <td>Colin</td>\n",
       "      <td>M</td>\n",
       "      <td>52</td>\n",
       "      <td>Freeman</td>\n",
       "      <td>223.60771</td>\n",
       "      <td>paid</td>\n",
       "      <td>Bakersfield, CA</td>\n",
       "      <td>PUT</td>\n",
       "      <td>NextSong</td>\n",
       "      <td>1.538173e+12</td>\n",
       "      <td>29</td>\n",
       "      <td>Harder Better Faster Stronger</td>\n",
       "      <td>200</td>\n",
       "      <td>1538352676000</td>\n",
       "      <td>Mozilla/5.0 (Windows NT 6.1; WOW64; rv:31.0) G...</td>\n",
       "      <td>30</td>\n",
       "    </tr>\n",
       "  </tbody>\n",
       "</table>\n",
       "</div>"
      ],
      "text/plain": [
       "             artist       auth firstName gender  itemInSession lastName  \\\n",
       "0    Martha Tilston  Logged In     Colin      M             50  Freeman   \n",
       "1  Five Iron Frenzy  Logged In     Micah      M             79     Long   \n",
       "2      Adam Lambert  Logged In     Colin      M             51  Freeman   \n",
       "3            Enigma  Logged In     Micah      M             80     Long   \n",
       "4         Daft Punk  Logged In     Colin      M             52  Freeman   \n",
       "\n",
       "      length level                        location method      page  \\\n",
       "0  277.89016  paid                 Bakersfield, CA    PUT  NextSong   \n",
       "1  236.09424  free  Boston-Cambridge-Newton, MA-NH    PUT  NextSong   \n",
       "2  282.82730  paid                 Bakersfield, CA    PUT  NextSong   \n",
       "3  262.71302  free  Boston-Cambridge-Newton, MA-NH    PUT  NextSong   \n",
       "4  223.60771  paid                 Bakersfield, CA    PUT  NextSong   \n",
       "\n",
       "   registration  sessionId                           song  status  \\\n",
       "0  1.538173e+12         29                      Rockpools     200   \n",
       "1  1.538332e+12          8                         Canada     200   \n",
       "2  1.538173e+12         29              Time For Miracles     200   \n",
       "3  1.538332e+12          8    Knocking On Forbidden Doors     200   \n",
       "4  1.538173e+12         29  Harder Better Faster Stronger     200   \n",
       "\n",
       "              ts                                          userAgent userId  \n",
       "0  1538352117000  Mozilla/5.0 (Windows NT 6.1; WOW64; rv:31.0) G...     30  \n",
       "1  1538352180000  \"Mozilla/5.0 (Windows NT 6.1; WOW64) AppleWebK...      9  \n",
       "2  1538352394000  Mozilla/5.0 (Windows NT 6.1; WOW64; rv:31.0) G...     30  \n",
       "3  1538352416000  \"Mozilla/5.0 (Windows NT 6.1; WOW64) AppleWebK...      9  \n",
       "4  1538352676000  Mozilla/5.0 (Windows NT 6.1; WOW64; rv:31.0) G...     30  "
      ]
     },
     "execution_count": 4,
     "metadata": {},
     "output_type": "execute_result"
    }
   ],
   "source": [
    "# Tabulated head through pandas\n",
    "df1 = df.toPandas()\n",
    "df1.head()"
   ]
  },
  {
   "cell_type": "code",
   "execution_count": 5,
   "metadata": {},
   "outputs": [
    {
     "name": "stdout",
     "output_type": "stream",
     "text": [
      "<class 'pandas.core.frame.DataFrame'>\n",
      "RangeIndex: 286500 entries, 0 to 286499\n",
      "Data columns (total 18 columns):\n",
      "artist           228108 non-null object\n",
      "auth             286500 non-null object\n",
      "firstName        278154 non-null object\n",
      "gender           278154 non-null object\n",
      "itemInSession    286500 non-null int64\n",
      "lastName         278154 non-null object\n",
      "length           228108 non-null float64\n",
      "level            286500 non-null object\n",
      "location         278154 non-null object\n",
      "method           286500 non-null object\n",
      "page             286500 non-null object\n",
      "registration     278154 non-null float64\n",
      "sessionId        286500 non-null int64\n",
      "song             228108 non-null object\n",
      "status           286500 non-null int64\n",
      "ts               286500 non-null int64\n",
      "userAgent        278154 non-null object\n",
      "userId           286500 non-null object\n",
      "dtypes: float64(2), int64(4), object(12)\n",
      "memory usage: 39.3+ MB\n"
     ]
    }
   ],
   "source": [
    "# To know nulls\n",
    "df1.info()"
   ]
  },
  {
   "cell_type": "markdown",
   "metadata": {},
   "source": [
    "We can see that variables such as artist, length, song has null values present."
   ]
  },
  {
   "cell_type": "code",
   "execution_count": 6,
   "metadata": {},
   "outputs": [
    {
     "data": {
      "text/plain": [
       "(array(['paid', 'free'], dtype=object),\n",
       " array(['PUT', 'GET'], dtype=object),\n",
       " array(['NextSong', 'Add to Playlist', 'Roll Advert', 'Thumbs Up',\n",
       "        'Downgrade', 'Thumbs Down', 'Home', 'Logout', 'Help', 'Login',\n",
       "        'Upgrade', 'Add Friend', 'About', 'Settings', 'Submit Upgrade',\n",
       "        'Submit Downgrade', 'Error', 'Save Settings', 'Cancel',\n",
       "        'Cancellation Confirmation', 'Register', 'Submit Registration'], dtype=object),\n",
       " array([200, 307, 404]),\n",
       " array(['M', 'F', None], dtype=object),\n",
       " array(['Logged In', 'Logged Out', 'Cancelled', 'Guest'], dtype=object))"
      ]
     },
     "execution_count": 6,
     "metadata": {},
     "output_type": "execute_result"
    }
   ],
   "source": [
    "# checking the values of some categoric columns\n",
    "\n",
    "df1.level.unique(),df1.method.unique(),df1.page.unique(),df1.status.unique(),df1.gender.unique(),df1.auth.unique()"
   ]
  },
  {
   "cell_type": "code",
   "execution_count": 7,
   "metadata": {},
   "outputs": [
    {
     "data": {
      "text/plain": [
       "8346"
      ]
     },
     "execution_count": 7,
     "metadata": {},
     "output_type": "execute_result"
    }
   ],
   "source": [
    "#Checking for missing user id in Spark\n",
    "df.filter(df.userId == '').count()"
   ]
  },
  {
   "cell_type": "markdown",
   "metadata": {},
   "source": [
    "It turns out that there are 8346 rows of unregistered users (the \"userId\" column is empty and there is no personal user information, i.e. first/ last name and gender available. As for the former, it seems reasonable to simply drop these rows since we only care about the churn of existing users."
   ]
  },
  {
   "cell_type": "code",
   "execution_count": 8,
   "metadata": {},
   "outputs": [],
   "source": [
    "# Dropping the missing User's ID rows\n",
    "df = df.filter(df.userId != '')"
   ]
  },
  {
   "cell_type": "code",
   "execution_count": 9,
   "metadata": {},
   "outputs": [
    {
     "data": {
      "text/plain": [
       "0"
      ]
     },
     "execution_count": 9,
     "metadata": {},
     "output_type": "execute_result"
    }
   ],
   "source": [
    "df.filter(df.userId == '').count()"
   ]
  },
  {
   "cell_type": "code",
   "execution_count": 10,
   "metadata": {},
   "outputs": [
    {
     "data": {
      "text/plain": [
       "225"
      ]
     },
     "execution_count": 10,
     "metadata": {},
     "output_type": "execute_result"
    }
   ],
   "source": [
    "# Removing duplicate UserID\n",
    "df.select(\"userId\").dropDuplicates().count()"
   ]
  },
  {
   "cell_type": "code",
   "execution_count": 11,
   "metadata": {},
   "outputs": [
    {
     "data": {
      "text/plain": [
       "2312"
      ]
     },
     "execution_count": 11,
     "metadata": {},
     "output_type": "execute_result"
    }
   ],
   "source": [
    "# Removing duplicates in Session ID\n",
    "df.select(\"sessionId\").dropDuplicates().count()"
   ]
  },
  {
   "cell_type": "code",
   "execution_count": 12,
   "metadata": {},
   "outputs": [
    {
     "name": "stdout",
     "output_type": "stream",
     "text": [
      "+--------------------+\n",
      "|                page|\n",
      "+--------------------+\n",
      "|              Cancel|\n",
      "|    Submit Downgrade|\n",
      "|         Thumbs Down|\n",
      "|                Home|\n",
      "|           Downgrade|\n",
      "|         Roll Advert|\n",
      "|              Logout|\n",
      "|       Save Settings|\n",
      "|Cancellation Conf...|\n",
      "|               About|\n",
      "|            Settings|\n",
      "|     Add to Playlist|\n",
      "|          Add Friend|\n",
      "|            NextSong|\n",
      "|           Thumbs Up|\n",
      "|                Help|\n",
      "|             Upgrade|\n",
      "|               Error|\n",
      "|      Submit Upgrade|\n",
      "+--------------------+\n",
      "\n"
     ]
    }
   ],
   "source": [
    "# Checking the structure of some features\n",
    "df.select(\"page\").distinct().show()"
   ]
  },
  {
   "cell_type": "code",
   "execution_count": 13,
   "metadata": {},
   "outputs": [
    {
     "name": "stdout",
     "output_type": "stream",
     "text": [
      "+--------------------+\n",
      "|              artist|\n",
      "+--------------------+\n",
      "|      The Black Keys|\n",
      "|         Silverstein|\n",
      "|           Kate Nash|\n",
      "|        Yann Tiersen|\n",
      "|    Jane's Addiction|\n",
      "|          Tim Hughes|\n",
      "|          Carl Craig|\n",
      "|Dashboard Confess...|\n",
      "|Yonder Mountain S...|\n",
      "|           Los Lobos|\n",
      "|Pete Rock & C.L. ...|\n",
      "|        Ziggy Marley|\n",
      "|      Jarabe De Palo|\n",
      "|               Rufio|\n",
      "|WC And The Maad C...|\n",
      "|      Jorge Gonzalez|\n",
      "|                Silk|\n",
      "|  The Watts Prophets|\n",
      "|            La Shica|\n",
      "|        Generation X|\n",
      "+--------------------+\n",
      "only showing top 20 rows\n",
      "\n"
     ]
    }
   ],
   "source": [
    "# Let's check users who did \"Cancellation Confirmation\"\n",
    "df.select(\"artist\").distinct().show()"
   ]
  },
  {
   "cell_type": "code",
   "execution_count": 14,
   "metadata": {},
   "outputs": [
    {
     "data": {
      "text/plain": [
       "278154"
      ]
     },
     "execution_count": 14,
     "metadata": {},
     "output_type": "execute_result"
    }
   ],
   "source": [
    "# Clean the NA value in userId and sessionId\n",
    "df = df.dropna(how = \"any\", subset = [\"userId\", \"sessionId\"])\n",
    "df.count()"
   ]
  },
  {
   "cell_type": "markdown",
   "metadata": {},
   "source": [
    "#### Step:4- Exploratory Data Analysis\n",
    "\n",
    "Now, We'll take a look in depth about the data points available in this dataset and which will be the most useful variables we can use for feature engg."
   ]
  },
  {
   "cell_type": "code",
   "execution_count": 15,
   "metadata": {},
   "outputs": [
    {
     "name": "stdout",
     "output_type": "stream",
     "text": [
      "Number of observations: 278154\n",
      "Number of columns:18\n",
      "Number of unique users: 225\n",
      "Average number of interactions per user 1236.24\n"
     ]
    }
   ],
   "source": [
    "# Number of Observations and Distribution of Number of Interactions\n",
    "\n",
    "# Explore dimensions after dropping NANs\n",
    "num_obs = df.count()\n",
    "num_cols = len(df.columns)\n",
    "print('Number of observations: {}'.format(num_obs))\n",
    "print('Number of columns:{}'.format(num_cols))\n",
    "\n",
    "# Have a look at the number of unique user IDs and the average number of interactions per user ID\n",
    "num_users = df.select('userId').dropDuplicates().count()\n",
    "print('Number of unique users: {}'.format(num_users))\n",
    "print('Average number of interactions per user {}'.format(num_obs/num_users))"
   ]
  },
  {
   "cell_type": "markdown",
   "metadata": {},
   "source": [
    "- It turns out that what initially seemed like a rather larger data set is not that large because there were on average about 1236 interactions per user. Hence, the 278,154 interactions represent really just data of 225 unique users.\n",
    "\n",
    "- Our goal is to use the log data to predict churn rates of individual users. Hence, we will ultimately need to aggregate the user log data at the user ID level to be able predict churn rates when we turn towards feature engineering and prediction. In this sense, we should probably think of the number of unique users as being more representative of our sample size.\n",
    "\n",
    "- Even so, it is also true that the more interactions we have recorded for each user the better we should be able to predict whether they will churn or not.\n",
    "\n",
    "- Next, let us have a brief look at how the number of interactions is distributed across the 225 unique users."
   ]
  },
  {
   "cell_type": "code",
   "execution_count": 16,
   "metadata": {},
   "outputs": [
    {
     "name": "stdout",
     "output_type": "stream",
     "text": [
      "Median number of interactions per user: 848.0\n",
      "Standard deviation of interactions per user: 1329.531716432519\n",
      "Minimum number of interactions for a single user: 6\n",
      "Maximum number of interactions for a single user: 9632\n"
     ]
    },
    {
     "data": {
      "image/png": "[encoded data removed]",
      "text/plain": [
       "<matplotlib.figure.Figure at 0x7f5442ea2f28>"
      ]
     },
     "metadata": {
      "needs_background": "light"
     },
     "output_type": "display_data"
    }
   ],
   "source": [
    "# Create a pandas dataframe with the distribution of the number of interactions and plot it\n",
    "\n",
    "interactions_df = df.groupBy('userId').count().toPandas()\n",
    "interactions_df.plot.hist(sns.color_palette()[0], legend = None)\n",
    "plt.xlabel('Number of Interactions')\n",
    "sns.set(style=\"ticks\")\n",
    "sns.despine(right=True,top=True)\n",
    "plt.savefig('sparkify_num_interactions.png', dpi = 300)\n",
    "print('Median number of interactions per user: {}'.format(interactions_df['count'].median()))\n",
    "print('Standard deviation of interactions per user: {}'.format(interactions_df['count'].std()))\n",
    "print('Minimum number of interactions for a single user: {}'.format(interactions_df['count'].min()))\n",
    "print('Maximum number of interactions for a single user: {}'.format(interactions_df['count'].max()))"
   ]
  },
  {
   "cell_type": "markdown",
   "metadata": {},
   "source": [
    "- We can see that there is quite a lot of variability with respect to the number of interactions per user. This was probably to be expected. There will usually be some users who won't use a service too much while others may actually be power users. \n",
    "\n",
    "- As long as we have at least some interactions for each user and as long as this difference in usage intensity is later on somehow reflected in our features, we will probably be fine."
   ]
  },
  {
   "cell_type": "markdown",
   "metadata": {},
   "source": [
    "**Checking Distribution of Dates:**\n",
    "\n",
    "Here I'm looking at ratio of users who have churned differ from those who have not with respect to the distribution of dates in the data. To simplify things, I decided to simply look at year and month."
   ]
  },
  {
   "cell_type": "code",
   "execution_count": 17,
   "metadata": {},
   "outputs": [],
   "source": [
    "# Convert timestamps to year-month and save this in a new column \n",
    "get_time = udf(lambda x: datetime.datetime.fromtimestamp(x / 1000.0).strftime('%Y-%m'))\n",
    "df = df.withColumn(\"time\", get_time(df.ts))"
   ]
  },
  {
   "cell_type": "code",
   "execution_count": 18,
   "metadata": {},
   "outputs": [
    {
     "data": {
      "image/png": "[encoded data removed]",
      "text/plain": [
       "<matplotlib.figure.Figure at 0x7f5450999048>"
      ]
     },
     "metadata": {},
     "output_type": "display_data"
    }
   ],
   "source": [
    "# Obtain pandas dataframe containing counts of year-month combinations and plot the result\n",
    "\n",
    "year_month_df = df.groupBy('time').count().toPandas()\n",
    "ax = year_month_df.plot.bar(x = 'time', legend = None)\n",
    "sns.set(style=\"ticks\")\n",
    "sns.despine(right=True,top=True)\n",
    "plt.xlabel('Year and Month')\n",
    "plt.ylabel('Frequency')\n",
    "\n",
    "# add commas to y-axis labels\n",
    "ax.set_yticklabels(['{:,}'.format(int(x)) for x in ax.get_yticks().tolist()])\n",
    "plt.tight_layout()\n",
    "# Save figure as file\n",
    "plt.savefig('sparkify_year_month_distribution.png', dpi = 300)"
   ]
  },
  {
   "cell_type": "markdown",
   "metadata": {},
   "source": [
    "- It turns out that the Sparkify log data consists essentially of data collected in October 2018 and November 2018 in almost equal proportions.\n",
    "\n",
    "- In general, the more data we have the better, but overall user behaviour and preferences may change over time. Hence, if we were to use data collected over e.g. 5 years we would probably need to somehow account for these changes. In addition to this, changes in the service itself such as a new UI or changes in the content available may also cause data not to be comparable anymore. In fact, such changes could be the very reason for users to churn.\n",
    "\n",
    "- On the other hand, if the time period covered by our data is too short, this may also have a detrimental effect on the predictive power of our model. With this small dataset covering mostly only two months' worth of data, it could very well be possible that a lot of users only become tired of the service after three months or perhaps half a year.\n",
    "\n",
    "- Ultimately, while the data for this project was provided, in real life it could probably be rather important to think about how long the time period covered by the data should be."
   ]
  },
  {
   "cell_type": "code",
   "execution_count": 19,
   "metadata": {},
   "outputs": [],
   "source": [
    "# Extracting Location information from data\n",
    "\n",
    "get_location=udf(lambda x:x[-2:])\n",
    "df = df.withColumn(\"location_state\", get_location(df.location))"
   ]
  },
  {
   "cell_type": "code",
   "execution_count": 20,
   "metadata": {},
   "outputs": [
    {
     "name": "stdout",
     "output_type": "stream",
     "text": [
      "+--------------+\n",
      "|location_state|\n",
      "+--------------+\n",
      "|            AZ|\n",
      "|            SC|\n",
      "|            LA|\n",
      "|            NJ|\n",
      "|            OR|\n",
      "|            VA|\n",
      "|            KY|\n",
      "|            NH|\n",
      "|            MI|\n",
      "|            NV|\n",
      "|            WI|\n",
      "|            ID|\n",
      "|            CA|\n",
      "|            CT|\n",
      "|            MT|\n",
      "|            NC|\n",
      "|            MD|\n",
      "|            MO|\n",
      "|            IL|\n",
      "|            WA|\n",
      "+--------------+\n",
      "only showing top 20 rows\n",
      "\n"
     ]
    }
   ],
   "source": [
    "df.select(\"location_state\").distinct().show()"
   ]
  },
  {
   "cell_type": "markdown",
   "metadata": {},
   "source": [
    "**Defining Churn:**\n",
    "\n",
    "**Definition:** A narrow definition would probably only include people who have deleted their account which is captured in our data as cases where the page feature takes on the value \"Cancellation Confirmation\". We can also define users as churn who are switching from the paid subscriptions to the free service. \n",
    "\n",
    "It turns out that identifying these users is a bit more complicated. While a user can only cancel their registration once, it is very much possible for a customer to downgrade from the paid to the free service and to then upgrade to the paid service again or to even repeat this cycle which this data doesn't tell.\n",
    "\n",
    "It therefore seemed justifiable to me to only look at users who completely stopped using the service. So, below I'm defining the churn and then will explore the data like dropping duplicates, getting gender wise stats etc."
   ]
  },
  {
   "cell_type": "code",
   "execution_count": 21,
   "metadata": {},
   "outputs": [],
   "source": [
    "# Churn is a label for user who cancelled\n",
    "\n",
    "# Define a flag function\n",
    "churn_users = udf(lambda x: 1 if x == \"Cancellation Confirmation\" else 0, IntegerType())\n",
    "\n",
    "# apply to the dataframe\n",
    "df = df.withColumn(\"churn\", churn_users(\"page\"))\n",
    "\n",
    "#Define window bounds\n",
    "windowval = Window.partitionBy(\"userId\").rangeBetween(Window.unboundedPreceding, Window.unboundedFollowing)\n",
    "\n",
    "# Applying the window\n",
    "df_withchurn = df.withColumn(\"churn\", Fsum(\"churn\").over(windowval))"
   ]
  },
  {
   "cell_type": "code",
   "execution_count": 22,
   "metadata": {},
   "outputs": [
    {
     "name": "stdout",
     "output_type": "stream",
     "text": [
      "+-----+-----+\n",
      "|churn|count|\n",
      "+-----+-----+\n",
      "|    0|  173|\n",
      "|    1|   52|\n",
      "+-----+-----+\n",
      "\n"
     ]
    }
   ],
   "source": [
    "#Drop duplicates in userId in spark\n",
    "df_withchurn.dropDuplicates(['userId']).groupby(['churn']).count().show()"
   ]
  },
  {
   "cell_type": "code",
   "execution_count": 23,
   "metadata": {},
   "outputs": [
    {
     "name": "stdout",
     "output_type": "stream",
     "text": [
      "+-----+------+-----+\n",
      "|churn|gender|count|\n",
      "+-----+------+-----+\n",
      "|    0|     F|   84|\n",
      "|    1|     M|   32|\n",
      "|    1|     F|   20|\n",
      "|    0|     M|   89|\n",
      "+-----+------+-----+\n",
      "\n"
     ]
    }
   ],
   "source": [
    "#Drop duplicates user status by gender in Spark\n",
    "df_withchurn.dropDuplicates(['userId', 'gender']).groupby(['churn', 'gender']).count().show()"
   ]
  },
  {
   "cell_type": "code",
   "execution_count": 24,
   "metadata": {},
   "outputs": [
    {
     "data": {
      "image/png": "[encoded data removed]",
      "text/plain": [
       "<matplotlib.figure.Figure at 0x7f54532db2b0>"
      ]
     },
     "metadata": {},
     "output_type": "display_data"
    }
   ],
   "source": [
    "#Plotting Gender wise churn statistics in a graph\n",
    "\n",
    "plt.figure(figsize=(10, 4))\n",
    "df_pd = df_withchurn.dropDuplicates([\"userId\", \"gender\"]).groupby([\"churn\", \"gender\"]).count().sort(\"churn\").toPandas()\n",
    "sns.barplot(x='churn', y='count', hue='gender', data=df_pd);"
   ]
  },
  {
   "cell_type": "code",
   "execution_count": 25,
   "metadata": {},
   "outputs": [
    {
     "name": "stdout",
     "output_type": "stream",
     "text": [
      "Number of users who have churned 52\n",
      "Number of users who have not churned 173\n"
     ]
    }
   ],
   "source": [
    "# Have a look at how many users have churned and how many have not\n",
    "\n",
    "print('Number of users who have churned {}'.\\\n",
    "      format(df_withchurn.filter(df_withchurn.churn == 1).select('userId').dropDuplicates().count()))\n",
    "print('Number of users who have not churned {}'.\\\n",
    "      format(df_withchurn.filter(df_withchurn.churn == 0).select('userId').dropDuplicates().count()))"
   ]
  },
  {
   "cell_type": "markdown",
   "metadata": {},
   "source": [
    "**Comparing Users Who Churned and Those Who Did Not:**\n",
    "\n",
    "Now that we have defined churn and identified those users who churned, we should have a look at some features and how their distribution differs across the two groups of users: those who have churned and those who have not.\n",
    "\n",
    "**I've decided to look at the following aggregated metrics:**\n",
    "\n",
    "1. Customer lifetime statistics\n",
    "2. Number of songs per session\n",
    "3. Number of songs per session (Gender wise Split)\n",
    "4. Page wise distribution between churn user and normal user\n",
    "5. Churn stats by User level\n",
    "6. Churn pattern based on location of the users\n",
    "7. Total Number of Sessions for Each User\n",
    "8. Calculating Unique Number of Artists\n",
    "9. Getting Total songs per user\n",
    "10. avg & min & max time per session\n",
    "11. How many artists have the user heard\n",
    "\n",
    "In the following cells these measures are calculated and where necessary some additional explanations were added."
   ]
  },
  {
   "cell_type": "code",
   "execution_count": 26,
   "metadata": {},
   "outputs": [],
   "source": [
    "#1. Customer lifetime statistics\n",
    "lifetime_pd = df_withchurn.where('page == \"NextSong\" OR page == \"Thumbs Up\"').groupby(['userId', 'churn', 'gender', 'page']).count().toPandas()\n",
    "lifetime_pd = lifetime_pd.pivot_table(index=['userId','churn','gender'], values='count', columns='page').reset_index()"
   ]
  },
  {
   "cell_type": "code",
   "execution_count": 27,
   "metadata": {},
   "outputs": [
    {
     "data": {
      "image/png": "[encoded data removed]",
      "text/plain": [
       "<matplotlib.figure.Figure at 0x7f54535a1320>"
      ]
     },
     "metadata": {},
     "output_type": "display_data"
    }
   ],
   "source": [
    "ax = sns.violinplot(data=lifetime_pd, x='churn', y='NextSong', hue='gender')\n",
    "plt.xlabel('Has customer churned?')\n",
    "plt.ylabel('Lifetime songs listened')\n",
    "plt.legend(title='Gender', loc='best')\n",
    "plt.title('Customer lifetime songs listened didn\\'t vary a lot')\n",
    "sns.despine(ax=ax);"
   ]
  },
  {
   "cell_type": "code",
   "execution_count": 28,
   "metadata": {},
   "outputs": [
    {
     "data": {
      "image/png": "[encoded data removed]",
      "text/plain": [
       "<matplotlib.figure.Figure at 0x7f543fd162e8>"
      ]
     },
     "metadata": {},
     "output_type": "display_data"
    }
   ],
   "source": [
    "ax = sns.violinplot(data=lifetime_pd, x='churn', y='Thumbs Up', hue='gender')\n",
    "plt.xlabel('Has customer churned?')\n",
    "plt.ylabel('Lifetime songs liked')\n",
    "plt.legend(title='Gender', loc='best')\n",
    "plt.title('Customer lifetime songs liked didn\\'t vary a lot')\n",
    "sns.despine(ax=ax);"
   ]
  },
  {
   "cell_type": "code",
   "execution_count": 40,
   "metadata": {},
   "outputs": [
    {
     "name": "stdout",
     "output_type": "stream",
     "text": [
      "+------+------------------+\n",
      "|userId|   avgSessionSongs|\n",
      "+------+------------------+\n",
      "|    10|112.16666666666667|\n",
      "|   100| 78.88235294117646|\n",
      "|100001|             33.25|\n",
      "|100002|             48.75|\n",
      "|100003|              25.5|\n",
      "+------+------------------+\n",
      "only showing top 5 rows\n",
      "\n"
     ]
    }
   ],
   "source": [
    "#2. Number of songs per session\n",
    "\n",
    "user_session_songs = df_withchurn.filter(df_withchurn.page==\"NextSong\").groupby(\"userId\", \"sessionId\").count()\n",
    "user_session_songs_avg = user_session_songs.groupby(\"userId\").agg(avg(user_session_songs[\"count\"]).alias(\"avgSessionSongs\")).sort(\"userId\")\n",
    "user_session_songs_avg.show(5)"
   ]
  },
  {
   "cell_type": "code",
   "execution_count": 41,
   "metadata": {},
   "outputs": [
    {
     "data": {
      "image/png": "[encoded data removed]",
      "text/plain": [
       "<matplotlib.figure.Figure at 0x7f543fab6048>"
      ]
     },
     "metadata": {},
     "output_type": "display_data"
    }
   ],
   "source": [
    "#3. Number of songs per session (Gender wise Split)\n",
    "\n",
    "songs_gender_pd = df_withchurn.where('page == \"NextSong\"').groupby(['churn', 'userId', 'sessionId','gender']).count()\\\n",
    "    .groupby(['churn', 'userId', 'gender']).agg({'count':'avg'})\\\n",
    "    .withColumnRenamed('avg(count)', 'avg_songs_played')\\\n",
    "    .toPandas()\n",
    "\n",
    "ax = sns.violinplot('churn', y='avg_songs_played', hue='gender', data=songs_gender_pd)\n",
    "plt.xlabel('Has customer churned?')\n",
    "plt.ylabel('Average songs played per session')\n",
    "plt.legend(title='Gender', loc='best', ncol=2)\n",
    "plt.title('Not significant difference in music per session')\n",
    "sns.despine(ax=ax);"
   ]
  },
  {
   "cell_type": "code",
   "execution_count": 30,
   "metadata": {},
   "outputs": [
    {
     "data": {
      "text/plain": [
       "<matplotlib.figure.Figure at 0x7f543f143470>"
      ]
     },
     "metadata": {},
     "output_type": "display_data"
    },
    {
     "data": {
      "image/png": "[encoded data removed]",
      "text/plain": [
       "<matplotlib.figure.Figure at 0x7f543f5162e8>"
      ]
     },
     "metadata": {},
     "output_type": "display_data"
    }
   ],
   "source": [
    "#4. Page wise distribution between churn user and normal user\n",
    "\n",
    "churn_count = df_withchurn.filter(df_withchurn.churn==1).count()\n",
    "no_churn_count = df_withchurn.filter(df_withchurn.churn==0).count()\n",
    "\n",
    "df_temp1 = df_withchurn.filter(df_withchurn.churn==1).filter(df_withchurn.page!=\"NextSong\").groupby([\"page\"]).count()\n",
    "df_temp1 = df_temp1.withColumn(\"cFreq\", df_temp1[\"count\"]/(churn_count/100)).sort(\"page\")\n",
    "\n",
    "df_temp2 = df_withchurn.filter(df_withchurn.churn==0).filter(df_withchurn.page!=\"NextSong\").groupby([\"page\"]).count()\n",
    "df_temp2 = df_temp2.withColumn(\"ncFreq\", df_temp2[\"count\"]/(no_churn_count/100)).sort(\"page\")\n",
    "\n",
    "plt.figure(figsize=(14, 6))\n",
    "df_pd = df_temp1.join(df_temp2, \"page\", \"outer\").drop(\"count\").fillna(0).toPandas()\n",
    "df_pd.plot.bar(\"page\");"
   ]
  },
  {
   "cell_type": "code",
   "execution_count": 31,
   "metadata": {},
   "outputs": [
    {
     "data": {
      "image/png": "[encoded data removed]",
      "text/plain": [
       "<matplotlib.figure.Figure at 0x7f543ee8e0b8>"
      ]
     },
     "metadata": {},
     "output_type": "display_data"
    }
   ],
   "source": [
    "#5. Churn stats by User level\n",
    "\n",
    "level_pd = df_withchurn.filter('page == \"Cancellation Confirmation\"').groupby('level').count().toPandas()\n",
    "\n",
    "ax = sns.barplot(data=level_pd, x='level', y='count', color=sns.color_palette()[0])\n",
    "plt.xlabel('User level when churn')\n",
    "plt.ylabel('')\n",
    "plt.title('Churn happenning more under paid plan')\n",
    "sns.despine(ax=ax);"
   ]
  },
  {
   "cell_type": "code",
   "execution_count": 32,
   "metadata": {},
   "outputs": [
    {
     "data": {
      "image/png": "[encoded data removed]",
      "text/plain": [
       "<matplotlib.figure.Figure at 0x7f543eb79588>"
      ]
     },
     "metadata": {},
     "output_type": "display_data"
    }
   ],
   "source": [
    "#6. Churn pattern based on location of the users\n",
    "\n",
    "plt.figure(figsize=(15,10))\n",
    "df_location=df_withchurn.groupby([\"location_state\", \"churn\"]).count().sort(\"churn\").toPandas()\n",
    "sns.barplot(x='location_state', y='count', hue='churn', data=df_location);"
   ]
  },
  {
   "cell_type": "markdown",
   "metadata": {},
   "source": [
    "**Churn pattern based on location of the users:**\n",
    "\n",
    "Depending on the location, users' preferences or their economic situation may differ. Hence, the location could also be an interesting feature to investigate. Since this is a categorical variable, we will ultimately, should we indeed use this feature, by using e.g. one-hot encoding need about as many columns as there are different locations. \n",
    "As it was included in this data, the location column contains both a user's city and the state they live in. To simlify this problem, let us just have a look at the state.\n",
    "\n",
    "I found that, Clifornia state has most numbers of Non Churn users present followed by Pennsylvania, Texas & New Hampshire.Further although churn ratio is also higher for CA when compared to other ones but if we see state wise distribution b/w both user types, it is not in similar ration & differs location wise. Also, Some states has less churned users compared to others."
   ]
  },
  {
   "cell_type": "code",
   "execution_count": 33,
   "metadata": {},
   "outputs": [
    {
     "data": {
      "text/plain": [
       "Row(artist='Sleeping With Sirens', auth='Logged In', firstName='Darianna', gender='F', itemInSession=0, lastName='Carpenter', length=202.97098, level='free', location='Bridgeport-Stamford-Norwalk, CT', method='PUT', page='NextSong', registration=1538016340000, sessionId=31, song='Captain Tyin Knots VS Mr Walkway (No Way)', status=200, ts=1539003534000, userAgent='\"Mozilla/5.0 (iPhone; CPU iPhone OS 7_1_2 like Mac OS X) AppleWebKit/537.51.2 (KHTML, like Gecko) Version/7.0 Mobile/11D257 Safari/9537.53\"', userId='100010', time='2018-10', location_state='CT', churn=0, sessionId_prev=None, new_session=1, sessions_num=7)"
      ]
     },
     "execution_count": 33,
     "metadata": {},
     "output_type": "execute_result"
    }
   ],
   "source": [
    "#7. Total Number of Sessions for Each User\n",
    "\n",
    "prev_val_window = Window.partitionBy('userId').orderBy('ts')\n",
    "df_withchurn = df_withchurn.withColumn('sessionId_prev',Flag(df_withchurn.sessionId).over(prev_val_window))\n",
    "\n",
    "\n",
    "# create column 'new_session' (0 or 1)\n",
    "new_session = udf(lambda session_ids: 1 if (session_ids[0] != session_ids[1]) & (session_ids[0] is not None) else 0, \n",
    "                  IntegerType())\n",
    "# Create column indicating whether the session ID is new and also set it to 1 for the first session ID for\n",
    "# each user which is the only case where the previous session ID column will have a value of null\n",
    "df_withchurn = df_withchurn.withColumn('new_session',Fwhen(Fisnull(df_withchurn.sessionId_prev), 1).\\\n",
    "                                                      otherwise(new_session(struct('sessionId_prev','sessionId'))))\n",
    "\n",
    "# Obtain total number of sessions for each user\n",
    "df_withchurn = df_withchurn.withColumn('sessions_num', Fsum('new_session').over(windowval))\n",
    "df_withchurn.head()\n",
    "\n",
    "# Credit: https://www.arundhaj.com/blog/calculate-difference-with-previous-row-in-pyspark.html"
   ]
  },
  {
   "cell_type": "markdown",
   "metadata": {},
   "source": [
    "**Total Number of Sessions for Each User:**\n",
    "\n",
    "As the first step,I've considered total number of sessions for each user. It turns out that we cannot use the approx_count_distinct PySpark SQL function here.\n",
    "\n",
    "So, I've followed the following approach:\n",
    "\n",
    "- Using a window function obtain the previous sessionId for each user's previous row\n",
    "- Create a column indicating whether the session ID changed (we need to have it also display a 1 for the very first row)\n",
    "- Take the sum of \"new_session\" column to obtain the total number of sessions"
   ]
  },
  {
   "cell_type": "code",
   "execution_count": 37,
   "metadata": {},
   "outputs": [
    {
     "data": {
      "text/plain": [
       "Row(artist='Sleeping With Sirens', auth='Logged In', firstName='Darianna', gender='F', itemInSession=0, lastName='Carpenter', length=202.97098, level='free', location='Bridgeport-Stamford-Norwalk, CT', method='PUT', page='NextSong', registration=1538016340000, sessionId=31, song='Captain Tyin Knots VS Mr Walkway (No Way)', status=200, ts=1539003534000, userAgent='\"Mozilla/5.0 (iPhone; CPU iPhone OS 7_1_2 like Mac OS X) AppleWebKit/537.51.2 (KHTML, like Gecko) Version/7.0 Mobile/11D257 Safari/9537.53\"', userId='100010', time='2018-10', location_state='CT', churn=0, sessionId_prev=None, new_session=1, sessions_num=7, dist_num_artists=249)"
      ]
     },
     "execution_count": 37,
     "metadata": {},
     "output_type": "execute_result"
    }
   ],
   "source": [
    "#8. Calculating Unique Number of Artists\n",
    "\n",
    "# In this case we can use approx_count_distinct function to obtain the number of unique artists a user listened to.\n",
    "\n",
    "df_withchurn = df_withchurn.withColumn('dist_num_artists', approx_count_distinct('artist').over(windowval))\n",
    "df_withchurn.head()"
   ]
  },
  {
   "cell_type": "code",
   "execution_count": 36,
   "metadata": {},
   "outputs": [
    {
     "name": "stdout",
     "output_type": "stream",
     "text": [
      "+------+-------------+\n",
      "|userId|song_per_user|\n",
      "+------+-------------+\n",
      "|100010|          381|\n",
      "|200002|          474|\n",
      "|   125|           11|\n",
      "|    51|         2464|\n",
      "|   124|         4825|\n",
      "|     7|          201|\n",
      "|    54|         3437|\n",
      "|    15|         2278|\n",
      "|   155|         1002|\n",
      "|   132|         2304|\n",
      "|   154|          118|\n",
      "|100014|          310|\n",
      "|   101|         2149|\n",
      "|    11|          848|\n",
      "|   138|         2469|\n",
      "|300017|         4428|\n",
      "|    29|         3603|\n",
      "|    69|         1342|\n",
      "|100021|          319|\n",
      "|    42|         4257|\n",
      "|   112|          292|\n",
      "|    87|         1003|\n",
      "|    73|          457|\n",
      "|    64|           68|\n",
      "|200010|          317|\n",
      "|     3|          254|\n",
      "|    30|         1775|\n",
      "|   113|         1895|\n",
      "|    34|           73|\n",
      "|   133|           44|\n",
      "|    59|          872|\n",
      "|   146|          837|\n",
      "|   139|          457|\n",
      "|     8|          334|\n",
      "|    28|         1781|\n",
      "|    22|           40|\n",
      "|300018|         2046|\n",
      "|300012|          786|\n",
      "|100022|          964|\n",
      "|    85|         4370|\n",
      "|    52|         1363|\n",
      "|    35|         2005|\n",
      "|    16|          819|\n",
      "|300008|         1672|\n",
      "|    71|          329|\n",
      "|    98|         2891|\n",
      "|300013|          411|\n",
      "|    99|          614|\n",
      "|    47|          251|\n",
      "|100008|          940|\n",
      "+------+-------------+\n",
      "only showing top 50 rows\n",
      "\n"
     ]
    }
   ],
   "source": [
    "#9. Getting Total songs per user\n",
    "\n",
    "song_per_user = df_withchurn\\\n",
    "                  .select(\"userId\",\"song\")\\\n",
    "                  .groupby(\"userId\")\\\n",
    "                  .count()\\\n",
    "                  .withColumnRenamed(\"count\",\"song_per_user\")\n",
    "song_per_user.show(50)"
   ]
  },
  {
   "cell_type": "markdown",
   "metadata": {},
   "source": [
    "**Getting Total songs per user:**\n",
    "\n",
    "We can also have a look at for how long each user has been using the service. Total song per user calculation is pretty simple. I've just grouped songs based on userIDs and then renamed the output to \"songs per user\""
   ]
  },
  {
   "cell_type": "code",
   "execution_count": 38,
   "metadata": {},
   "outputs": [
    {
     "name": "stdout",
     "output_type": "stream",
     "text": [
      "+------+------------------+-----------------+------------------+\n",
      "|userId|    avgSessionTime|   minSessionTime|    maxSessionTime|\n",
      "+------+------------------+-----------------+------------------+\n",
      "|    10|459.74722222222226|91.41666666666667|1547.9166666666667|\n",
      "|   100| 316.5190476190476|              0.0|1019.5833333333334|\n",
      "|100001|148.15833333333333|             63.0|215.28333333333333|\n",
      "|100002|201.18333333333334|              0.0| 730.4666666666667|\n",
      "|100003| 99.11666666666667|3.216666666666667|195.01666666666668|\n",
      "+------+------------------+-----------------+------------------+\n",
      "only showing top 5 rows\n",
      "\n"
     ]
    }
   ],
   "source": [
    "#10. avg & min & max time per session\n",
    "\n",
    "user_session_time = df_withchurn.groupby(\"userId\", \"sessionId\").agg(((max(df_withchurn.ts)-min(df_withchurn.ts))/(1000*60)).alias(\"sessionTime\"))\n",
    "user_session_time_stat = user_session_time.groupby(\"userId\").agg(avg(user_session_time.sessionTime).alias(\"avgSessionTime\"), min(user_session_time.sessionTime).alias(\"minSessionTime\"), max(user_session_time.sessionTime).alias(\"maxSessionTime\")).sort(\"userId\")\n",
    "user_session_time_stat.show(5)"
   ]
  },
  {
   "cell_type": "markdown",
   "metadata": {},
   "source": [
    "**avg & min & max time per session:**\n",
    "\n",
    "I've calculated the average lenght of a user's sessions by summing up the differences between the timestamps recorded during a session and dividing them by the number of total sessions. \n",
    "\n",
    "Note that we need to ignore the difference between the last timestamp of one session and the first timestamp of the next session in order not to count users' inactivity as activity."
   ]
  },
  {
   "cell_type": "code",
   "execution_count": 43,
   "metadata": {},
   "outputs": [
    {
     "name": "stdout",
     "output_type": "stream",
     "text": [
      "+------+-----------+\n",
      "|userId|aritstCount|\n",
      "+------+-----------+\n",
      "|100010|        252|\n",
      "|200002|        339|\n",
      "|   125|          8|\n",
      "|    51|       1385|\n",
      "|   124|       2232|\n",
      "+------+-----------+\n",
      "only showing top 5 rows\n",
      "\n"
     ]
    }
   ],
   "source": [
    "#11. How many artists have the user heard\n",
    "\n",
    "user_artist_count = df_withchurn.filter(df_withchurn.page==\"NextSong\").select(\"userId\", \"artist\").dropDuplicates().groupby(\"userId\").count()\n",
    "user_artist_count = user_artist_count.withColumnRenamed(\"count\", \"aritstCount\")\n",
    "user_artist_count.show(5)"
   ]
  },
  {
   "cell_type": "markdown",
   "metadata": {},
   "source": [
    "### Step:5- Feature Engineering\n",
    "\n",
    "Once you've familiarized yourself with the data, build out the features you find promising to train your model on. To work with the full dataset, you can follow the following steps.\n",
    "\n",
    "    1.Write a script to extract the necessary features from the smaller subset of data\n",
    "    2.Ensure that your script is scalable, using the best practices discussed in Lesson 3\n",
    "    3.Try your script on the full data set, debugging your script if necessary\n",
    "\n",
    "By looking at the above analysis,I've identified some features which may be interesting for my machine learning model(first values in parentheses refer to churners while the second refer to non-churners). \n",
    "\n",
    "These features are:\n",
    "\n",
    "Feature 1: number of days since registration\n",
    "Feature 2: Total songs per user\n",
    "Feature 3: Gender wise distribution\n",
    "Feature 4: Listening Time per user\n",
    "Feature 5: avg & min & max time per session\n",
    "Feature 6: number of sessions\n",
    "Feature 7: Number of songs per session\n",
    "Feature 8: session duration\n",
    "Feature 9: Type of user (Paid:1 or Free:0)\n",
    "Feature 10: how many artists have the user heard\n",
    "\n",
    "Below, I've processed these features one by one for modeling purpose. "
   ]
  },
  {
   "cell_type": "code",
   "execution_count": 44,
   "metadata": {},
   "outputs": [
    {
     "name": "stdout",
     "output_type": "stream",
     "text": [
      "+------+------------------+\n",
      "|userId|            regDay|\n",
      "+------+------------------+\n",
      "|100010| 55.64365740740741|\n",
      "|200002| 70.07462962962963|\n",
      "|   125| 71.31688657407408|\n",
      "|   124|131.55591435185184|\n",
      "|    51|19.455844907407407|\n",
      "+------+------------------+\n",
      "only showing top 5 rows\n",
      "\n"
     ]
    }
   ],
   "source": [
    "# Feature 1: number of days since registration\n",
    "user_max_ts = df_withchurn.groupby(\"userId\").max(\"ts\").sort(\"userId\")\n",
    "user_reg_ts = df_withchurn.select(\"userId\", \"registration\").dropDuplicates().sort(\"userId\")\n",
    "user_reg_days = user_reg_ts.join(user_max_ts, user_reg_ts.userId == user_max_ts.userId).select(user_reg_ts[\"userId\"], ((user_max_ts[\"max(ts)\"]-user_reg_ts[\"registration\"])/(1000*60*60*24)).alias(\"regDay\"))\n",
    "user_reg_days.show(5)"
   ]
  },
  {
   "cell_type": "code",
   "execution_count": 45,
   "metadata": {},
   "outputs": [
    {
     "name": "stdout",
     "output_type": "stream",
     "text": [
      "+------+-------------+\n",
      "|userId|song_per_user|\n",
      "+------+-------------+\n",
      "|100010|          381|\n",
      "|200002|          474|\n",
      "|   125|           11|\n",
      "|    51|         2464|\n",
      "|   124|         4825|\n",
      "|     7|          201|\n",
      "|    54|         3437|\n",
      "|    15|         2278|\n",
      "|   155|         1002|\n",
      "|   132|         2304|\n",
      "+------+-------------+\n",
      "only showing top 10 rows\n",
      "\n"
     ]
    }
   ],
   "source": [
    "# Feature 2: Total songs per user\n",
    "song_per_user = df_withchurn\\\n",
    "                  .select(\"userId\",\"song\")\\\n",
    "                  .groupby(\"userId\")\\\n",
    "                  .count()\\\n",
    "                  .withColumnRenamed(\"count\",\"song_per_user\")\n",
    "song_per_user.show(10)"
   ]
  },
  {
   "cell_type": "code",
   "execution_count": 46,
   "metadata": {},
   "outputs": [
    {
     "name": "stdout",
     "output_type": "stream",
     "text": [
      "+------+------+\n",
      "|userId|gender|\n",
      "+------+------+\n",
      "|    30|     0|\n",
      "|     9|     0|\n",
      "|    30|     0|\n",
      "|     9|     0|\n",
      "|    30|     0|\n",
      "|     9|     0|\n",
      "|     9|     0|\n",
      "|    30|     0|\n",
      "|    30|     0|\n",
      "|    30|     0|\n",
      "|     9|     0|\n",
      "|     9|     0|\n",
      "|    30|     0|\n",
      "|     9|     0|\n",
      "|     9|     0|\n",
      "|    30|     0|\n",
      "|     9|     0|\n",
      "|    74|     1|\n",
      "|    30|     0|\n",
      "|     9|     0|\n",
      "+------+------+\n",
      "only showing top 20 rows\n",
      "\n"
     ]
    }
   ],
   "source": [
    "# Feature 3: Gender wise distribution\n",
    "\n",
    "gender = df_withchurn\\\n",
    "         .select('userId','gender')\\\n",
    "         .replace(['M','F'],['0','1'],'gender')\\\n",
    "         .select('userId',col('gender').cast('int'))\\\n",
    "         #.withColumnRenamed('gender', 'gender_num') \n",
    "gender.show(20)"
   ]
  },
  {
   "cell_type": "code",
   "execution_count": 47,
   "metadata": {},
   "outputs": [
    {
     "name": "stdout",
     "output_type": "stream",
     "text": [
      "+------+------------------+\n",
      "|userId|    listening_time|\n",
      "+------+------------------+\n",
      "|100010| 66940.89735000003|\n",
      "|200002| 94008.87593999993|\n",
      "|   125|2089.1131000000005|\n",
      "|    51| 523275.8428000004|\n",
      "|   124|1012312.0927899999|\n",
      "|     7| 38034.08710000002|\n",
      "|    54| 711344.9195400011|\n",
      "|    15|477307.60581000015|\n",
      "|   155|       198779.2919|\n",
      "|   132| 483118.9038399997|\n",
      "+------+------------------+\n",
      "only showing top 10 rows\n",
      "\n"
     ]
    }
   ],
   "source": [
    "# Feature 4: Listening Time per user\n",
    "\n",
    "listening_time = df_withchurn\\\n",
    "            .select('userId','length')\\\n",
    "            .groupby(['userId'])\\\n",
    "            .sum()\\\n",
    "            .withColumnRenamed('sum(length)','listening_time')\n",
    "\n",
    "listening_time.show(10)"
   ]
  },
  {
   "cell_type": "code",
   "execution_count": 48,
   "metadata": {},
   "outputs": [
    {
     "name": "stdout",
     "output_type": "stream",
     "text": [
      "+------+------------------+-----------------+------------------+\n",
      "|userId|    avgSessionTime|   minSessionTime|    maxSessionTime|\n",
      "+------+------------------+-----------------+------------------+\n",
      "|    10|459.74722222222226|91.41666666666667|1547.9166666666667|\n",
      "|   100| 316.5190476190476|              0.0|1019.5833333333334|\n",
      "|100001|148.15833333333333|             63.0|215.28333333333333|\n",
      "|100002|201.18333333333334|              0.0| 730.4666666666667|\n",
      "|100003| 99.11666666666667|3.216666666666667|195.01666666666668|\n",
      "+------+------------------+-----------------+------------------+\n",
      "only showing top 5 rows\n",
      "\n"
     ]
    }
   ],
   "source": [
    "#Feature 5: avg & min & max time per session\n",
    "user_session_time = df_withchurn.groupby(\"userId\", \"sessionId\").agg(((max(df_withchurn.ts)-min(df_withchurn.ts))/(1000*60)).alias(\"sessionTime\"))\n",
    "user_session_time_stat = user_session_time.groupby(\"userId\").agg(avg(user_session_time.sessionTime).alias(\"avgSessionTime\"), min(user_session_time.sessionTime).alias(\"minSessionTime\"), max(user_session_time.sessionTime).alias(\"maxSessionTime\")).sort(\"userId\")\n",
    "user_session_time_stat.show(5)"
   ]
  },
  {
   "cell_type": "code",
   "execution_count": 49,
   "metadata": {},
   "outputs": [
    {
     "name": "stdout",
     "output_type": "stream",
     "text": [
      "+------+------------+\n",
      "|userId|sessionCount|\n",
      "+------+------------+\n",
      "|100010|           7|\n",
      "|200002|           6|\n",
      "|   125|           1|\n",
      "|    51|          10|\n",
      "|   124|          29|\n",
      "+------+------------+\n",
      "only showing top 5 rows\n",
      "\n"
     ]
    }
   ],
   "source": [
    "# Feature 6: number of sessions\n",
    "user_session_count = df_withchurn.select(\"userId\", \"sessionId\").dropDuplicates().groupby(\"userId\").count()\n",
    "user_session_count = user_session_count.withColumnRenamed(\"count\", \"sessionCount\")\n",
    "user_session_count.show(5)"
   ]
  },
  {
   "cell_type": "code",
   "execution_count": 50,
   "metadata": {},
   "outputs": [
    {
     "name": "stdout",
     "output_type": "stream",
     "text": [
      "+------+------------------+\n",
      "|userId|   avgSessionSongs|\n",
      "+------+------------------+\n",
      "|    10|112.16666666666667|\n",
      "|   100| 78.88235294117646|\n",
      "|100001|             33.25|\n",
      "|100002|             48.75|\n",
      "|100003|              25.5|\n",
      "+------+------------------+\n",
      "only showing top 5 rows\n",
      "\n"
     ]
    }
   ],
   "source": [
    "# Feature 7: Number of songs per session\n",
    "\n",
    "user_session_songs = df_withchurn.filter(df_withchurn.page==\"NextSong\").groupby(\"userId\", \"sessionId\").count()\n",
    "user_session_songs_avg = user_session_songs.groupby(\"userId\").agg(avg(user_session_songs[\"count\"]).alias(\"avgSessionSongs\")).sort(\"userId\")\n",
    "user_session_songs_avg.show(5)"
   ]
  },
  {
   "cell_type": "code",
   "execution_count": 51,
   "metadata": {},
   "outputs": [
    {
     "name": "stdout",
     "output_type": "stream",
     "text": [
      "+------+---------+------------------+\n",
      "|userId|sessionId|     session_hours|\n",
      "+------+---------+------------------+\n",
      "|   101|      635|55.000277777777775|\n",
      "|   110|     1776|1.3908333333333334|\n",
      "|   120|      627|15.855555555555556|\n",
      "+------+---------+------------------+\n",
      "only showing top 3 rows\n",
      "\n"
     ]
    }
   ],
   "source": [
    "# Feature 8:session duration\n",
    "\n",
    "session_end = df_withchurn.groupBy('userId', 'sessionId').max('ts').withColumnRenamed('max(ts)', 'end')\n",
    "session_start = df_withchurn.groupBy('userId', 'sessionId').min('ts').withColumnRenamed('min(ts)', 'start')\n",
    "session_df = session_start.join(session_end,['userId', 'sessionId'])\n",
    "ticks_per_hours = 1000 * 60 * 60\n",
    "session_df = session_df.select('userId', 'sessionId', ((\n",
    "    session_df.end-session_df.start)/ticks_per_hours).alias('session_hours'))\n",
    "session_df.show(3)"
   ]
  },
  {
   "cell_type": "code",
   "execution_count": 52,
   "metadata": {},
   "outputs": [
    {
     "name": "stdout",
     "output_type": "stream",
     "text": [
      "+------+-----+\n",
      "|userId|level|\n",
      "+------+-----+\n",
      "|    10|    1|\n",
      "|   100|    1|\n",
      "|100001|    0|\n",
      "|100002|    1|\n",
      "|100003|    0|\n",
      "+------+-----+\n",
      "only showing top 5 rows\n",
      "\n"
     ]
    }
   ],
   "source": [
    "# Feature 9: Type of user (Paid:1 or Free:0)\n",
    "\n",
    "user_paid = df_withchurn.groupby(\"userId\", \"level\").agg(max(df_withchurn.ts).alias(\"finalTime\")).sort(\"userId\")\n",
    "user_recent_level_time = user_paid.groupby(\"userId\").agg(max(user_paid.finalTime).alias(\"recent\"))\n",
    "user_recent_level = user_recent_level_time.join(user_paid, [user_paid.userId == user_recent_level_time.userId, user_recent_level_time.recent == user_paid.finalTime]).select(user_paid.userId, \"level\").sort(\"userId\")\n",
    "user_recent_level = user_recent_level.replace([\"free\", \"paid\"], [\"0\", \"1\"], \"level\")\n",
    "user_recent_level = user_recent_level.select(\"userId\", user_recent_level.level.cast(\"int\"))\n",
    "user_recent_level.show(5)"
   ]
  },
  {
   "cell_type": "code",
   "execution_count": 58,
   "metadata": {},
   "outputs": [
    {
     "name": "stdout",
     "output_type": "stream",
     "text": [
      "+------+-----------+\n",
      "|userId|aritstCount|\n",
      "+------+-----------+\n",
      "|100010|        252|\n",
      "|200002|        339|\n",
      "|   125|          8|\n",
      "|    51|       1385|\n",
      "|   124|       2232|\n",
      "+------+-----------+\n",
      "only showing top 5 rows\n",
      "\n"
     ]
    }
   ],
   "source": [
    "# Feature 10: how many artists have the user heard\n",
    "\n",
    "user_artist_count = df_withchurn.filter(df_withchurn.page==\"NextSong\").select(\"userId\", \"artist\").dropDuplicates().groupby(\"userId\").count()\n",
    "user_artist_count = user_artist_count.withColumnRenamed(\"count\", \"aritstCount\")\n",
    "user_artist_count.show(5)"
   ]
  },
  {
   "cell_type": "markdown",
   "metadata": {},
   "source": [
    "Once, All the features has been processed successfully, I've created one feature list by taking all these individual features. This is done by simply using list attributes by taking features name."
   ]
  },
  {
   "cell_type": "code",
   "execution_count": 59,
   "metadata": {},
   "outputs": [],
   "source": [
    "# All the features to collect\n",
    "\n",
    "features_list = [user_reg_days, song_per_user, gender, \n",
    "                   listening_time, user_session_time_stat, user_session_count, session_df, \n",
    "                   user_session_songs_avg, user_recent_level, user_artist_count]\n",
    "features_list_names = ['user_reg_days', 'song_per_user', 'gender', \n",
    "                   'listening_time', 'user_session_time_stat', 'user_session_count', 'session_df',\n",
    "                   'user_session_songs_avg', 'user_recent_level', 'user_artist_count']"
   ]
  },
  {
   "cell_type": "markdown",
   "metadata": {},
   "source": [
    "**Finally,** These features present in feature list has been joined together with the original base dataset for modeling purpose. Since all of these features are aggregate measures, we will end up with a single row for each user by doing so.\n",
    "\n",
    "We can then proceed to our standard machine learning approach of splitting our dataset into a training, validation and test set. This can then be used on a number of standard classification algorithms to identify which one works best. Finally, we can then optimise the best machine learning algorithm for final data testing and validation purpose.\n",
    "\n",
    "**Please refer the further modeling exercise from the original project. I've not replicated all the modeling exercise here because it takes a lot of time to process**\n",
    "\n",
    "Although, I'll walk through all the explanation of the exercise below."
   ]
  },
  {
   "cell_type": "markdown",
   "metadata": {},
   "source": [
    "**Preparing the Data for Machine Learning:**\n",
    "\n",
    "Before we can now move on to splitting our data and trying out different algorithms we first need to apply one-hot encoding to categorical variables and scaling to numerical variables. Also, I've done some pre processing of the final variables which will be used in model.\n",
    "\n",
    "**Steps Taken are:**\n",
    "\n",
    "1. Initialize the final_df\n",
    "2. Change the column names to strings and remove the extra spaces for consistency\n",
    "3. Converting data types of User_ID, Churn and other numeric variables to interger/float from srting.\n",
    "4. Removing existing nulls by replacing them to zero\n",
    "5. Finally, ensureing the data schema is appropriate.\n"
   ]
  },
  {
   "cell_type": "markdown",
   "metadata": {},
   "source": [
    "### Step:6- Data Modeling\n",
    "\n",
    "**Pre-modeling steps**:\n",
    "\n",
    "Here I've passed only some relevant features to be trained into vector. Reason behind not selecting all the features is to reduce overall model run time.\n",
    "\n",
    "I've selected **\"regDay\", \"song_per_user\", \"gender\", \"sessionCount\", \"level\" and \"aritstCount\"** features for modeling ecercise.\n",
    "\n",
    "Then, In order to avoid one feature with larger scale dominant the whole model,I've standardize the features by taking off the mean and divided by the standard deviation of each feature. This is done by using **\"StandardScaler\" function**.\n",
    "\n",
    "Once, all this above excercise done, I've splitted my data into training, test & validation datasets. Final count of observations from all these 3 dataset are:\n",
    "\n",
    "**training:139, Testing:79, Validation: 7**"
   ]
  },
  {
   "cell_type": "markdown",
   "metadata": {},
   "source": [
    "**Evaluation Parameters:**\n",
    "\n",
    "Now that we have prepared the data and obtained a random train-test split, we can try out a few different classification algorithms on our data and select the best one based on the baseline performance without any hyperparameter tuning.\n",
    "\n",
    "As briefly mentioned above, we have a rather imbalanced dataset where an algorithm could already do reasonably well by simply using a trivial solution of predicting everyone as not churning. Hence, in order to deal with this issue we will either need to do oversampling to obtain a \"new\" dataset with equal proportions of both classes or we will have to choose a different metric than accuracy. \n",
    "\n",
    "A well-established metric to deal with imbalances is the **F1-score**. We're also getting accuracy scores but here F1-Score will be the main score for select best model for further hypertuning."
   ]
  },
  {
   "cell_type": "markdown",
   "metadata": {},
   "source": [
    "**Baseline Model:**\n",
    "\n",
    "I'll evaluate **two baseline models**, one with all users labelled as churn = 1, one with all users labelled as churn = 0. Then I'll calculate the model accuracy and f1 score.\n",
    "\n",
    "These baseline models will act as reference for evaluating further developed 3 different models. All these models will be evaluated by considering **Accuracy Score** and **F1-Score** and I'll select that model among the tree which will have highest F1 score and Accuracy score.\n",
    "\n",
    "**Baseline Model Results**\n",
    "\n",
    "**For Churn=1:**\n",
    "\n",
    "Test set metrics:\n",
    "Accuracy: 0.26582278481012656\n",
    "F-1 Score:0.11164556962025314\n",
    "\n",
    "**For Churn=0:**\n",
    "\n",
    "Test set metrics:\n",
    "Accuracy: 0.7341772151898734\n",
    "F-1 Score:0.6216391019125936\n",
    "\n",
    "As we can see, the baseline model of labelling all users with churn = 0 does good on test set, with accuracy of 0.734 and f1 score of 0.621.\n",
    "\n",
    "Now, below I'll evaluate three different models. Then, I'll use cross validation to minimize the chance of overfitting and finally I'll use grid search to tune the model.\n",
    "\n",
    "After evaluating three models on validation set, I'll pick up the best one based on the f1 score on that and train the best model on training set again then to evaluate on test set.\n"
   ]
  },
  {
   "cell_type": "markdown",
   "metadata": {},
   "source": [
    "Now, I've trained three different models which are:\n",
    "\n",
    "**First Model: Logistic Regression**\n",
    "\n",
    "Accuracy: 0.7142857142857143\n",
    "F-1 Score:0.5952380952380951\n",
    "\n",
    "**Second Model: Gradient Boosted Trees**\n",
    "\n",
    "Accuracy: 0.8571428571428571\n",
    "F-1 Score:0.8398268398268397\n",
    "\n",
    "**Third Model: Support Vector Machine**\n",
    "\n",
    "Accuracy: 0.7142857142857143\n",
    "F-1 Score:0.5952380952380951\n",
    "\n",
    "Although we do care about time resources, but since the data size is reletively small, and the performance difference also varies, I'll will prefer the model that perform the best amongs all 3. Therefore, GBT model will be my final used model as it has achieved **best F1 scores** from the other two models.\n",
    "\n",
    "Next, I'll will use Grid-Search and Cross-validation techniques to fine tune hyper parameters so that I can further improve the performance of my model."
   ]
  },
  {
   "cell_type": "markdown",
   "metadata": {},
   "source": [
    "### Cross-validation hyperparameter tuning Step:\n",
    "\n",
    "I've applied cross-validation hyperparameter tuning method on the GBT Model as it has turned out the best model among all 3.\n",
    "\n",
    "But, It turns out that the model perform worse after applying cross-validation hyperparameter tuning.It has given the **score for Accuracy: 0.6962025316455697 and F-1 Score:0.6496835443037974** \n",
    "\n",
    "**Result:**\n",
    "\n",
    "From the Grid-Search method,I've obtained an accuracy of 0.696 and F-1 Score of 0.649, which is lower than previous models but acceptable. This also make sense as testing dataset has further less data than training.\n",
    "\n",
    "**How did this happen?** \n",
    "\n",
    "This is quite likely due to the fact that I've used a dataset with a rather small number of churned users which further shrinks when we apply cross validation. When using the large dataset we encounter the same issue with an only negligible improvement in model performance compared to the reduced dataset. \n",
    "\n",
    "A discussion of this issue at https://stats.stackexchange.com/questions/229445/do-i-stick-with-the-tuned-model-parameters-even-if-they-produce-worse-test-score suggests that we should be fine sticking to the model without hyperparameter tuning.\n",
    "\n",
    "**So GBT Model will be my choice of model to go with the churn user analysis and implementation exercise.**"
   ]
  },
  {
   "cell_type": "markdown",
   "metadata": {},
   "source": [
    "### Feature Importances:\n",
    "\n",
    "Finally, in order to improve our understanding of the model results, we can have a look at which features were most important in predicting whether a user is likely to churn or not. We can identify the most important features in terms of predictive power by making use of the feature Importances property of a trained model.\n",
    "\n",
    "The **featureImportances** property returns a sparse vector with the keys representing the index of the respective and the values representing the importances in terms of the variance explained. \n",
    "\n",
    "In order to use this information for our purposes, we need to turn the sparse vector into a Pandas dataframe, create a column containing the index values and create yet another column containing the actual feature names.\n",
    "\n",
    "I've used same **featureImportances** function for determining most important features.\n"
   ]
  },
  {
   "cell_type": "markdown",
   "metadata": {},
   "source": [
    "feat_imp = gbt_best_model.featureImportances.values\n",
    "cols = [\"regDay\", \"song_per_user\", \"gender\", \"sessionCount\", \"level\", \"aritstCount\"]\n",
    "y_pos = np.arange(len(cols))\n",
    " \n",
    "plt.barh(y_pos, feat_imp, align='center')\n",
    "plt.yticks(y_pos, cols)\n",
    "plt.xlabel('Importance Score')\n",
    "plt.title('GBT Feature Importances');"
   ]
  },
  {
   "cell_type": "markdown",
   "metadata": {},
   "source": [
    "### Findings:\n",
    "\n",
    "I've utilized the feature importance attribute of the Gradient Boosted Tree model. From the chart, we can see length of using the service i.e. RegDay actually plays a very important role.\n",
    "\n",
    "But this may be biased as well with the fact that those who have churned had possibly used service for shorter period of time, and thus, we may re-consider our model or do some transformation to reduce the bias.\n",
    "\n",
    "Other than that, session count & song per user also plays important role. I personally feel that song per user is directly related with the lenght of using service hence it also came as other important factor. Further, again if user has used service for long time, then it also make sense that he has take more sessions than other churned users."
   ]
  },
  {
   "cell_type": "markdown",
   "metadata": {},
   "source": [
    "**Conclusion:**\n",
    "\n",
    "1. In this notebook, I've implemented a model trying to predict customers who will be churned in near future based on various factors available in given dataset. \n",
    "\n",
    "2. As part of data cleaning, I've removed rows where no userId was present, converted timestamp to a human readable format, converted gender to binary numeric column. \n",
    "\n",
    "3. In total 10 features were built for modeling purpose but given the fact that my model was taking much time to process, I've selected some key features to process in model. \n",
    "\n",
    "4. I've used 4 modeling techniques: logistic regression, GBM & SVM and selected GBM as the final model implemented for predicting final result. \n",
    "\n",
    "5. I've used cross validation and grid search methods to fine tune my model. here, I've achieved about 70% of accuracy, and F1 score of 0.65 , which is about 3% improvement compare to my baseline model for sending everyone an offer.\n",
    "\n",
    "**Reflection:**\n",
    "\n",
    "- This project gives me an exposure to spark environment that how we can analyze a large volume of data on a personal laptop which may not be capable enough to analyze. \n",
    "\n",
    "- It happened in my case where this smaller data also has take large amount of processing time, hence I've skipped my thought to rerun the process on the full data.\n",
    "\n",
    "- By identifying customer with high chance of getting churned prior to the acutal losing, companies can use this information & wil be equipped better to retain them at minimal cost by using targeted messages and offers only to that pool of customers.\n",
    "\n",
    "- One of the interesting yet difficult thing during the project was brainstroming the features that will be useful for actual modeling exercise. Developing useful features is crucial for developing a good model, and requires a lot of energy and efforts. Explanatory and exploratory data analysis play important role in this process.\n",
    "\n",
    "**Improvement:**\n",
    "\n",
    "- These features surely has enough room for improvement after considering more factors into analysis, adding more domain knowledges and expertise. Considering the fact that our model's data inputs for training, testing & validating has very less data (139, 79, 7) respectively, it has a huge potential to improve if the sample size increases, and the expected performance will also increase."
   ]
  }
 ],
 "metadata": {
  "kernelspec": {
   "display_name": "Python 3",
   "language": "python",
   "name": "python3"
  },
  "language_info": {
   "codemirror_mode": {
    "name": "ipython",
    "version": 3
   },
   "file_extension": ".py",
   "mimetype": "text/x-python",
   "name": "python",
   "nbconvert_exporter": "python",
   "pygments_lexer": "ipython3",
   "version": "3.6.3"
  }
 },
 "nbformat": 4,
 "nbformat_minor": 2
}
